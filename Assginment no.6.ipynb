{
 "cells": [
  {
   "cell_type": "markdown",
   "id": "0c486a43",
   "metadata": {},
   "source": [
    "1) What are escape charaters, and how do you use them? \n",
    "\n",
    "To insert charaters that are illegal in a string, use escape charaters.\n",
    "\n",
    "For example:-\n",
    "   i)    \\  =  Backslash\n",
    "   ii)   ' = Single quote\n",
    "   iii)  \" = Dobule quote\n",
    "   iv)   \\n = move to next line\n",
    "   v)    \\b = Backspace\n",
    "   vi)   \\f = form feed\n",
    "   vii)  \\t = Tab "
   ]
  },
  {
   "cell_type": "markdown",
   "id": "77741b71",
   "metadata": {},
   "source": [
    "2) What do escape charaters n & t stands for?\n",
    "\n",
    "\\n = move to next line\n",
    "\\t = tab"
   ]
  },
  {
   "cell_type": "markdown",
   "id": "01954d81",
   "metadata": {},
   "source": [
    "3) What is the way to include backslash charater in a srting?\n",
    "\n",
    "We can add backslash ( \\ ) in the ending of our commond."
   ]
  },
  {
   "cell_type": "markdown",
   "id": "8e32cf02",
   "metadata": {},
   "source": [
    "4)  The string \"Howl's Moving Castle\" is a correct value. Why isn't the single quote character in the word Howl's not escaped a problem?\n",
    "\n",
    "Because the Howl's illegal charater, but it is mentioned in escape charater double quotes(\")."
   ]
  },
  {
   "cell_type": "markdown",
   "id": "7e53825e",
   "metadata": {},
   "source": [
    "5) How do you write string of newline if you don't want to use n charater?\n",
    "\n",
    "endl"
   ]
  },
  {
   "cell_type": "markdown",
   "id": "66b5a464",
   "metadata": {},
   "source": [
    "6) What are the values of given expression?"
   ]
  },
  {
   "cell_type": "code",
   "execution_count": 6,
   "id": "8a0c9f56",
   "metadata": {},
   "outputs": [
    {
     "data": {
      "text/plain": [
       "'e'"
      ]
     },
     "execution_count": 6,
     "metadata": {},
     "output_type": "execute_result"
    }
   ],
   "source": [
    "'Hello, World!'[1]"
   ]
  },
  {
   "cell_type": "code",
   "execution_count": 2,
   "id": "fd6f3f9e",
   "metadata": {},
   "outputs": [
    {
     "data": {
      "text/plain": [
       "'Hello'"
      ]
     },
     "execution_count": 2,
     "metadata": {},
     "output_type": "execute_result"
    }
   ],
   "source": [
    "'Hello, World!'[0:5]"
   ]
  },
  {
   "cell_type": "code",
   "execution_count": 3,
   "id": "946e5756",
   "metadata": {},
   "outputs": [
    {
     "data": {
      "text/plain": [
       "'Hello'"
      ]
     },
     "execution_count": 3,
     "metadata": {},
     "output_type": "execute_result"
    }
   ],
   "source": [
    "'Hello, World!'[:5]"
   ]
  },
  {
   "cell_type": "code",
   "execution_count": 4,
   "id": "24a9457c",
   "metadata": {},
   "outputs": [
    {
     "data": {
      "text/plain": [
       "'lo World!'"
      ]
     },
     "execution_count": 4,
     "metadata": {},
     "output_type": "execute_result"
    }
   ],
   "source": [
    "'Hello World!'[3:]"
   ]
  },
  {
   "cell_type": "markdown",
   "id": "c7e230d1",
   "metadata": {},
   "source": [
    "7) What are the values of the following expressions?"
   ]
  },
  {
   "cell_type": "code",
   "execution_count": 6,
   "id": "4fc469b3",
   "metadata": {},
   "outputs": [
    {
     "data": {
      "text/plain": [
       "'HELLO'"
      ]
     },
     "execution_count": 6,
     "metadata": {},
     "output_type": "execute_result"
    }
   ],
   "source": [
    "'Hello'.upper()"
   ]
  },
  {
   "cell_type": "code",
   "execution_count": 8,
   "id": "6d482fe2",
   "metadata": {},
   "outputs": [
    {
     "data": {
      "text/plain": [
       "True"
      ]
     },
     "execution_count": 8,
     "metadata": {},
     "output_type": "execute_result"
    }
   ],
   "source": [
    "'Hello'.upper().isupper()"
   ]
  },
  {
   "cell_type": "code",
   "execution_count": 10,
   "id": "cf50f633",
   "metadata": {},
   "outputs": [
    {
     "data": {
      "text/plain": [
       "'hello'"
      ]
     },
     "execution_count": 10,
     "metadata": {},
     "output_type": "execute_result"
    }
   ],
   "source": [
    "'Hello'.upper().lower()"
   ]
  },
  {
   "cell_type": "markdown",
   "id": "c0fcbd80",
   "metadata": {},
   "source": [
    "8) What are the values of the following expressions?"
   ]
  },
  {
   "cell_type": "code",
   "execution_count": 11,
   "id": "0e608deb",
   "metadata": {},
   "outputs": [
    {
     "data": {
      "text/plain": [
       "'There-can-only-one.'"
      ]
     },
     "execution_count": 11,
     "metadata": {},
     "output_type": "execute_result"
    }
   ],
   "source": [
    "'Remember,remember,the fifth of July.'.split()\n",
    "'-'.join('There can only one.'.split())"
   ]
  },
  {
   "cell_type": "markdown",
   "id": "dc14b88d",
   "metadata": {},
   "source": [
    "9) What are the methods for right-justifying, left-justifying and centering a string?"
   ]
  },
  {
   "cell_type": "code",
   "execution_count": 14,
   "id": "14143963",
   "metadata": {},
   "outputs": [
    {
     "name": "stdout",
     "output_type": "stream",
     "text": [
      "    yuvraj\n"
     ]
    }
   ],
   "source": [
    "n = \"yuvraj\"\n",
    "x = n.rjust(10)\n",
    "print(x)"
   ]
  },
  {
   "cell_type": "code",
   "execution_count": 15,
   "id": "8e086bc7",
   "metadata": {},
   "outputs": [
    {
     "name": "stdout",
     "output_type": "stream",
     "text": [
      "yuvraj              \n"
     ]
    }
   ],
   "source": [
    "n = \"yuvraj\"\n",
    "x = n.ljust(20)\n",
    "print(x)"
   ]
  },
  {
   "cell_type": "code",
   "execution_count": 18,
   "id": "f41f7e36",
   "metadata": {},
   "outputs": [
    {
     "name": "stdout",
     "output_type": "stream",
     "text": [
      "                      yuvraj                      \n"
     ]
    }
   ],
   "source": [
    "n = \"yuvraj\"\n",
    "x = n.center(50)\n",
    "print(x)"
   ]
  },
  {
   "cell_type": "markdown",
   "id": "24fabfbc",
   "metadata": {},
   "source": [
    "10) What is the best way to remove whitespace charaters from the start or end?\n",
    "\n",
    "trimStart() or trimEnd()"
   ]
  }
 ],
 "metadata": {
  "kernelspec": {
   "display_name": "Python 3 (ipykernel)",
   "language": "python",
   "name": "python3"
  },
  "language_info": {
   "codemirror_mode": {
    "name": "ipython",
    "version": 3
   },
   "file_extension": ".py",
   "mimetype": "text/x-python",
   "name": "python",
   "nbconvert_exporter": "python",
   "pygments_lexer": "ipython3",
   "version": "3.9.7"
  }
 },
 "nbformat": 4,
 "nbformat_minor": 5
}
